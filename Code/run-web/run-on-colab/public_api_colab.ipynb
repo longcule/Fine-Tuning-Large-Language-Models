{
  "nbformat": 4,
  "nbformat_minor": 0,
  "metadata": {
    "colab": {
      "provenance": [],
      "gpuType": "T4"
    },
    "kernelspec": {
      "name": "python3",
      "display_name": "Python 3"
    },
    "language_info": {
      "name": "python"
    },
    "accelerator": "GPU"
  },
  "cells": [
    {
      "cell_type": "markdown",
      "metadata": {
        "id": "view-in-github"
      },
      "source": [
        "<a href=\"https://colab.research.google.com/github/koji/llm_api_template/blob/main/Zephyr_API_server.ipynb\" target=\"_parent\"><img src=\"https://colab.research.google.com/assets/colab-badge.svg\" alt=\"Open In Colab\"/></a>"
      ]
    },
    {
      "cell_type": "code",
      "source": [
        "import os\n",
        "from google.colab import drive\n",
        "MOUNTPOINT = '/content/gdrive'\n",
        "DATADIR = os.path.join(MOUNTPOINT, 'MyDrive', 'models')\n",
        "drive.mount(MOUNTPOINT)"
      ],
      "metadata": {
        "colab": {
          "base_uri": "https://localhost:8080/"
        },
        "id": "-1Sl3EnWRoz-",
        "outputId": "fa1c45fe-e91f-4ff4-9b8a-962148dabdaf"
      },
      "execution_count": null,
      "outputs": [
        {
          "output_type": "stream",
          "name": "stdout",
          "text": [
            "Mounted at /content/gdrive\n"
          ]
        }
      ]
    },
    {
      "cell_type": "code",
      "source": [
        "!wget https://bin.equinox.io/c/4VmDzA7iaHb/ngrok-stable-linux-amd64.zip\n",
        "!unzip -o ngrok-stable-linux-amd64.zip"
      ],
      "metadata": {
        "colab": {
          "base_uri": "https://localhost:8080/"
        },
        "id": "XawfLH2H0_iD",
        "outputId": "1600de15-0ba5-43c0-ce2a-578436c0e4c3"
      },
      "execution_count": null,
      "outputs": [
        {
          "output_type": "stream",
          "name": "stdout",
          "text": [
            "--2023-12-13 16:01:41--  https://bin.equinox.io/c/4VmDzA7iaHb/ngrok-stable-linux-amd64.zip\n",
            "Resolving bin.equinox.io (bin.equinox.io)... 54.161.241.46, 52.202.168.65, 18.205.222.128, ...\n",
            "Connecting to bin.equinox.io (bin.equinox.io)|54.161.241.46|:443... connected.\n",
            "HTTP request sent, awaiting response... 200 OK\n",
            "Length: 13921656 (13M) [application/octet-stream]\n",
            "Saving to: ‘ngrok-stable-linux-amd64.zip’\n",
            "\n",
            "ngrok-stable-linux- 100%[===================>]  13.28M  19.5MB/s    in 0.7s    \n",
            "\n",
            "2023-12-13 16:01:42 (19.5 MB/s) - ‘ngrok-stable-linux-amd64.zip’ saved [13921656/13921656]\n",
            "\n",
            "Archive:  ngrok-stable-linux-amd64.zip\n",
            "  inflating: ngrok                   \n"
          ]
        }
      ]
    },
    {
      "cell_type": "markdown",
      "source": [],
      "metadata": {
        "id": "zQDUzLcKcx-C"
      }
    },
    {
      "cell_type": "code",
      "source": [
        "!pip install pyngrok"
      ],
      "metadata": {
        "colab": {
          "base_uri": "https://localhost:8080/"
        },
        "id": "O9aUNktaBByb",
        "outputId": "6893127e-12d9-4460-a3f0-f3c7a82a36f2"
      },
      "execution_count": null,
      "outputs": [
        {
          "output_type": "stream",
          "name": "stdout",
          "text": [
            "Collecting pyngrok\n",
            "  Downloading pyngrok-7.0.3-py3-none-any.whl (21 kB)\n",
            "Requirement already satisfied: PyYAML in /usr/local/lib/python3.10/dist-packages (from pyngrok) (6.0.1)\n",
            "Installing collected packages: pyngrok\n",
            "Successfully installed pyngrok-7.0.3\n"
          ]
        }
      ]
    },
    {
      "cell_type": "code",
      "source": [
        "!/ngrok authtoken 2PV7yfu527axt7UusBwLKXmJvkD_35bURm5txVhxA5fGsyeS9"
      ],
      "metadata": {
        "colab": {
          "base_uri": "https://localhost:8080/"
        },
        "id": "vUv78PBVevBG",
        "outputId": "ef84f1cc-66cb-407a-a3be-3415faa98a59"
      },
      "execution_count": null,
      "outputs": [
        {
          "output_type": "stream",
          "name": "stdout",
          "text": [
            "/bin/bash: line 1: /ngrok: No such file or directory\n"
          ]
        }
      ]
    },
    {
      "cell_type": "code",
      "source": [
        "!ngrok config add-authtoken 2PV7yfu527axt7UusBwLKXmJvkD_35bURm5txVhxA5fGsyeS9"
      ],
      "metadata": {
        "colab": {
          "base_uri": "https://localhost:8080/"
        },
        "id": "Sr_z2Uv3afkL",
        "outputId": "49b8d61b-88c7-42fe-914b-2752d73eecd2"
      },
      "execution_count": null,
      "outputs": [
        {
          "output_type": "stream",
          "name": "stdout",
          "text": [
            "Authtoken saved to configuration file: /root/.config/ngrok/ngrok.yml\n"
          ]
        }
      ]
    },
    {
      "cell_type": "code",
      "source": [
        "import os\n",
        "from google.colab import userdata\n",
        "from pyngrok import ngrok, conf\n",
        "os.environ[\"NGROK\"] = userdata.get(\"NGROK\")\n",
        "conf.get_default().auth_token = os.environ[\"NGROK\"]"
      ],
      "metadata": {
        "id": "Ti08Yp_YpCyH"
      },
      "execution_count": null,
      "outputs": []
    },
    {
      "cell_type": "code",
      "source": [
        "!CMAKE_ARGS=\"-DLLAMA_CUBLAS=on\" FORCE_CMAKE=1 pip install llama-cpp-python[server]\n",
        "!python3 -m llama_cpp.server --model /content/gdrive/MyDrive/models/model-tuyet-voi.gguf --n_gpu_layers 35 --host 127.0.0.1 > /content/server.log 2>&1 &"
      ],
      "metadata": {
        "colab": {
          "base_uri": "https://localhost:8080/"
        },
        "id": "WSJpk_GmewZO",
        "outputId": "650385ef-76c3-4c6e-afa6-58c7711d7c66"
      },
      "execution_count": null,
      "outputs": [
        {
          "output_type": "stream",
          "name": "stdout",
          "text": [
            "Requirement already satisfied: llama-cpp-python[server] in /usr/local/lib/python3.10/dist-packages (0.2.22)\n",
            "Requirement already satisfied: typing-extensions>=4.5.0 in /usr/local/lib/python3.10/dist-packages (from llama-cpp-python[server]) (4.9.0)\n",
            "Requirement already satisfied: numpy>=1.20.0 in /usr/local/lib/python3.10/dist-packages (from llama-cpp-python[server]) (1.23.5)\n",
            "Requirement already satisfied: diskcache>=5.6.1 in /usr/local/lib/python3.10/dist-packages (from llama-cpp-python[server]) (5.6.3)\n",
            "Requirement already satisfied: uvicorn>=0.22.0 in /usr/local/lib/python3.10/dist-packages (from llama-cpp-python[server]) (0.24.0.post1)\n",
            "Requirement already satisfied: fastapi>=0.100.0 in /usr/local/lib/python3.10/dist-packages (from llama-cpp-python[server]) (0.105.0)\n",
            "Requirement already satisfied: pydantic-settings>=2.0.1 in /usr/local/lib/python3.10/dist-packages (from llama-cpp-python[server]) (2.1.0)\n",
            "Requirement already satisfied: sse-starlette>=1.6.1 in /usr/local/lib/python3.10/dist-packages (from llama-cpp-python[server]) (1.8.2)\n",
            "Requirement already satisfied: starlette-context<0.4,>=0.3.6 in /usr/local/lib/python3.10/dist-packages (from llama-cpp-python[server]) (0.3.6)\n",
            "Requirement already satisfied: anyio<4.0.0,>=3.7.1 in /usr/local/lib/python3.10/dist-packages (from fastapi>=0.100.0->llama-cpp-python[server]) (3.7.1)\n",
            "Requirement already satisfied: pydantic!=1.8,!=1.8.1,!=2.0.0,!=2.0.1,!=2.1.0,<3.0.0,>=1.7.4 in /usr/local/lib/python3.10/dist-packages (from fastapi>=0.100.0->llama-cpp-python[server]) (2.5.2)\n",
            "Requirement already satisfied: starlette<0.28.0,>=0.27.0 in /usr/local/lib/python3.10/dist-packages (from fastapi>=0.100.0->llama-cpp-python[server]) (0.27.0)\n",
            "Requirement already satisfied: python-dotenv>=0.21.0 in /usr/local/lib/python3.10/dist-packages (from pydantic-settings>=2.0.1->llama-cpp-python[server]) (1.0.0)\n",
            "Requirement already satisfied: click>=7.0 in /usr/local/lib/python3.10/dist-packages (from uvicorn>=0.22.0->llama-cpp-python[server]) (8.1.7)\n",
            "Requirement already satisfied: h11>=0.8 in /usr/local/lib/python3.10/dist-packages (from uvicorn>=0.22.0->llama-cpp-python[server]) (0.14.0)\n",
            "Requirement already satisfied: idna>=2.8 in /usr/local/lib/python3.10/dist-packages (from anyio<4.0.0,>=3.7.1->fastapi>=0.100.0->llama-cpp-python[server]) (3.6)\n",
            "Requirement already satisfied: sniffio>=1.1 in /usr/local/lib/python3.10/dist-packages (from anyio<4.0.0,>=3.7.1->fastapi>=0.100.0->llama-cpp-python[server]) (1.3.0)\n",
            "Requirement already satisfied: exceptiongroup in /usr/local/lib/python3.10/dist-packages (from anyio<4.0.0,>=3.7.1->fastapi>=0.100.0->llama-cpp-python[server]) (1.2.0)\n",
            "Requirement already satisfied: annotated-types>=0.4.0 in /usr/local/lib/python3.10/dist-packages (from pydantic!=1.8,!=1.8.1,!=2.0.0,!=2.0.1,!=2.1.0,<3.0.0,>=1.7.4->fastapi>=0.100.0->llama-cpp-python[server]) (0.6.0)\n",
            "Requirement already satisfied: pydantic-core==2.14.5 in /usr/local/lib/python3.10/dist-packages (from pydantic!=1.8,!=1.8.1,!=2.0.0,!=2.0.1,!=2.1.0,<3.0.0,>=1.7.4->fastapi>=0.100.0->llama-cpp-python[server]) (2.14.5)\n"
          ]
        }
      ]
    },
    {
      "cell_type": "code",
      "source": [
        "from IPython import get_ipython\n",
        "get_ipython().system_raw('./ngrok http 8000 --authtoken 2PV7yfu527axt7UusBwLKXmJvkD_35bURm5txVhxA5fGsyeS9 &')"
      ],
      "metadata": {
        "id": "Zv8oUQn1pLhP"
      },
      "execution_count": null,
      "outputs": []
    },
    {
      "cell_type": "code",
      "source": [
        "!curl -s http://localhost:4040/api/tunnels | python3 -c \"import sys, json; print(json.load(sys.stdin)['tunnels'][0]['public_url'])\""
      ],
      "metadata": {
        "colab": {
          "base_uri": "https://localhost:8080/"
        },
        "id": "i34CS6cypOJ4",
        "outputId": "4f07f4e7-283a-4130-bfed-f61de29a3179"
      },
      "execution_count": null,
      "outputs": [
        {
          "output_type": "stream",
          "name": "stdout",
          "text": [
            "https://4231-34-125-242-148.ngrok-free.app\n"
          ]
        }
      ]
    },
    {
      "cell_type": "code",
      "source": [
        "!ngrok http 80"
      ],
      "metadata": {
        "colab": {
          "base_uri": "https://localhost:8080/"
        },
        "id": "FW3pEZjKdbUO",
        "outputId": "b843630c-6bcb-495e-a8c7-96ff7055b834"
      },
      "execution_count": null,
      "outputs": [
        {
          "output_type": "stream",
          "name": "stdout",
          "text": [
            "NAME:\n",
            "  http - start an HTTP tunnel\n",
            "\n",
            "USAGE:\n",
            "  ngrok http [address:port | port] [flags]\n",
            "\n",
            "DESCRIPTION: \n",
            "  Starts a tunnel listening for HTTP/HTTPS traffic with a specific hostname.\n",
            "  The HTTP Host header on incoming public requests is inspected to\n",
            "  determine which tunnel it matches.\n",
            "\n",
            "  HTTPS endpoints terminate TLS traffic at the ngrok server using the\n",
            "  appropriate certificates. The decrypted, HTTP traffic is then forwarded\n",
            "  through the secure tunnel and then to your local server. If you don't want\n",
            "  your TLS traffic to terminate at the ngrok server, use a TLS or TCP tunnel.\n",
            "\n",
            "TERMS OF SERVICE: https://ngrok.com/tos\n",
            "\n",
            "EXAMPLES: \n",
            "  ngrok http 8080                             # forward ngrok subdomain to port 80\n",
            "  ngrok http example.com:9000                 # forward traffic to example.com:9000\n",
            "  ngrok http --domain=bar.ngrok.dev 80        # request subdomain name: 'bar.ngrok.dev'\n",
            "  ngrok http --domain=example.com 1234        # request tunnel 'example.com' (DNS CNAME)\n",
            "  ngrok http --basic-auth='falken:joshua' 80  # enforce basic auth on tunnel endpoint\n",
            "  ngrok http --host-header=example.com 80     # rewrite the Host header to 'example.com'\n",
            "  ngrok http file:///var/log                  # serve local files in /var/log\n",
            "  ngrok http https://localhost:8443           # forward to a local https server\n",
            "\n",
            "OPTIONS:\n",
            "      --app-protocol string              Set application protocol: 'http2'\n",
            "      --authtoken string                 ngrok.com authtoken identifying a user\n",
            "      --basic-auth strings               enforce basic auth on tunnel endpoint, 'user:password'\n",
            "      --cidr-allow strings               reject connections that do not match the given CIDRs\n",
            "      --cidr-deny strings                reject connections that match the given CIDRs\n",
            "      --circuit-breaker float            reject requests when 5XX responses exceed this ratio\n",
            "      --compression                      gzip compress http responses from your web service\n",
            "      --config strings                   path to config files; they are merged if multiple\n",
            "      --domain string                    host tunnel on a custom subdomain or hostname (requires DNS CNAME)\n",
            "  -h, --help                             help for http\n",
            "      --host-header string               set Host header; if 'rewrite' use local address hostname\n",
            "      --inspect                          enable/disable http introspection (default true) (default <nil>)\n",
            "      --log string                       path to log file, 'stdout', 'stderr' or 'false' (default \"false\")\n",
            "      --log-format string                log record format: 'term', 'logfmt', 'json' (default \"term\")\n",
            "      --log-level string                 logging level: 'debug', 'info', 'warn', 'error', 'crit' (default \"info\")\n",
            "      --mutual-tls-cas string            path to TLS certificate authority to verify client certs in mutual tls\n",
            "      --oauth string                     enforce authentication oauth provider on tunnel endpoint, e.g. 'google'\n",
            "      --oauth-allow-domain strings       allow only oauth users with these email domains\n",
            "      --oauth-allow-email strings        allow only oauth users with these emails\n",
            "      --oauth-client-id string           oauth app client id, optional\n",
            "      --oauth-client-secret string       oauth app client secret, optional\n",
            "      --oauth-scope strings              request these oauth scopes when users authenticate\n",
            "      --oidc string                      oidc issuer url, e.g. https://accounts.google.com\n",
            "      --oidc-client-id string            oidc app client id\n",
            "      --oidc-client-secret string        oidc app client secret\n",
            "      --oidc-scope strings               request these oidc scopes when users authenticate\n",
            "      --proxy-proto string               version of proxy proto to use with this tunnel, empty if not using\n",
            "      --request-header-add strings       header key:value to add to request\n",
            "      --request-header-remove strings    header field to remove from request if present\n",
            "      --response-header-add strings      header key:value to add to response\n",
            "      --response-header-remove strings   header field to remove from response if present\n",
            "      --scheme strings                   which schemes to listen on (default [https])\n",
            "      --ua-filter-allow strings          a list of regular expressions for user-agents to allow\n",
            "      --ua-filter-deny strings           a list of regular expressions for user-agents to deny\n",
            "      --upstream-tls-verify              enables TLS verification of server TLS certificates\n",
            "      --upstream-tls-verify-cas string   path to CA cert to use to verify server certs\n",
            "      --verify-webhook string            validate webhooks are signed by this provider, e.g. 'slack'\n",
            "      --verify-webhook-secret string     secret used by provider to sign webhooks, if any\n",
            "      --websocket-tcp-converter          convert ingress websocket connections to TCP upstream\n",
            "\n",
            "ERROR:  authentication failed: Your account is limited to 1 simultaneous ngrok agent session.\n",
            "ERROR:  You can run multiple tunnels on a single agent session using a configuration file.\n",
            "ERROR:  To learn more, see https://ngrok.com/docs/secure-tunnels/ngrok-agent/reference/config/\n",
            "ERROR:  \n",
            "ERROR:  Active ngrok agent sessions in region 'us':\n",
            "ERROR:    - ts_2ZUkIbstQxSdzQnq0YhakJBtcu2 (34.125.242.148)\r\n",
            "ERROR:  \r\n",
            "ERROR:  ERR_NGROK_108\r\n",
            "ERROR:  \n"
          ]
        }
      ]
    },
    {
      "cell_type": "code",
      "source": [
        "!pkill uvicorn\n",
        "!pkill ngrok"
      ],
      "metadata": {
        "id": "yR13tQ3CpP6M"
      },
      "execution_count": null,
      "outputs": []
    },
    {
      "cell_type": "code",
      "source": [],
      "metadata": {
        "id": "QRzLsGd-GkUq"
      },
      "execution_count": null,
      "outputs": []
    }
  ]
}